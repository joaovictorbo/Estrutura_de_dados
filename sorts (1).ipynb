{
 "cells": [
  {
   "cell_type": "code",
   "execution_count": 1,
   "metadata": {},
   "outputs": [
    {
     "name": "stderr",
     "output_type": "stream",
     "text": [
      "C:\\Users\\jvlin\\AppData\\Local\\Temp\\ipykernel_64356\\4180176973.py:11: VisibleDeprecationWarning: Creating an ndarray from ragged nested sequences (which is a list-or-tuple of lists-or-tuples-or ndarrays with different lengths or shapes) is deprecated. If you meant to do this, you must specify 'dtype=object' when creating the ndarray.\n",
      "  list = np.array(text_list)\n"
     ]
    }
   ],
   "source": [
    "from os import walk\n",
    "import numpy as np\n",
    "def import_folder_text(path):\n",
    "    text_list = []\n",
    "    for diretorio,subpastas,arquivos in walk(path):\n",
    "        for arquivo in arquivos:\n",
    "            full_path = path + arquivo\n",
    "            with open(full_path, 'r') as f:\n",
    "                linhas = [linha.strip() for linha in f]\n",
    "                text_list.append(linhas)\n",
    "            list = np.array(text_list)\n",
    "    return list\n",
    "matriz = import_folder_text('instancias/')\n",
    "a = 0\n"
   ]
  },
  {
   "attachments": {},
   "cell_type": "markdown",
   "metadata": {},
   "source": [
    "Selection sort"
   ]
  },
  {
   "cell_type": "code",
   "execution_count": 2,
   "metadata": {},
   "outputs": [],
   "source": [
    "def selection_sort(lista):\n",
    "    ## Percorre a lista organizando-a considerando o 1o conteudo (i) de cada repetição como o minimo.\n",
    "    for i in range(len(lista)):\n",
    "        minimo = i \n",
    "        ## Considerado o minimo, inicia uma busca afim de encontrar outro conteudo menor que o atual.\n",
    "        for j in range(i+1, len(lista)):\n",
    "            ## Caso encontrado o conteudo menor que o minimo a variavel minimo armazenará a posição encontrada (j).\n",
    "            ## Caso contrario só seguirá com a repetição.\n",
    "            if lista[minimo] > lista[j]:\n",
    "                minimo = j\n",
    "        ## No fim desta repetição o conteudo da posição (i) é trocada com o conteudo da posição de minimo.\n",
    "        lista[i], lista[minimo] = lista[minimo], lista[i]\n",
    "    ## Por fim retorna a lista organizada\n",
    "    return lista"
   ]
  },
  {
   "attachments": {},
   "cell_type": "markdown",
   "metadata": {},
   "source": [
    "Bubble sort"
   ]
  },
  {
   "cell_type": "code",
   "execution_count": 3,
   "metadata": {},
   "outputs": [],
   "source": [
    "\n",
    "def bubble_sort(array):\n",
    "    ## Repetiremos as operações de ordenação até que nenhuma troca de conteudo seja possivel assim o While deve começar como True\n",
    "    trocou = True\n",
    "    while trocou:\n",
    "        trocou = False ## Caso as trocas tenham acabado com repetições anteriores este permanecerá False e sairá do While\n",
    "        elementos_ordenados = 0 \n",
    "        for pos_inicial in range(0, len(array) - elementos_ordenados - 1): ## Ordenará repetidamente cada posição deixando o final ordenado e diminuindoo tamanho do For\n",
    "            if array[pos_inicial] > array[pos_inicial+1]:    \n",
    "                array[pos_inicial], array[pos_inicial+1] = array[pos_inicial+1], array[pos_inicial]\n",
    "                trocou = True\n",
    "        elementos_ordenados += 1\n",
    "    return array"
   ]
  },
  {
   "attachments": {},
   "cell_type": "markdown",
   "metadata": {},
   "source": [
    "Insertion sort"
   ]
  },
  {
   "cell_type": "code",
   "execution_count": 4,
   "metadata": {},
   "outputs": [],
   "source": [
    "def insertion_sort(lista):\n",
    "    ## Percorre a lista para ordenar e em cada repetição é armazenado o valor a ser ordenado e seu antecessor\n",
    "    for i in range(1,len(lista)):\n",
    "        aux = lista[i]\n",
    "        j = i-1\n",
    "        ## Da direita para a esquerda os valores são ordenados\n",
    "        while j>=0 and aux<lista[j]:\n",
    "            lista[j+1] = lista[j]\n",
    "            j -= 1\n",
    "        lista[j+1] = aux\n",
    "    ## retorna a lista\n",
    "    return lista"
   ]
  },
  {
   "attachments": {},
   "cell_type": "markdown",
   "metadata": {},
   "source": [
    "Merge sort"
   ]
  },
  {
   "cell_type": "code",
   "execution_count": 5,
   "metadata": {},
   "outputs": [],
   "source": [
    "def merge_sort(lista):\n",
    "    ## Merge sort é uma função recursiva portanto o passo base será o tamanho da lista ser menor que 1.\n",
    "    if len(lista) > 1:\n",
    "        ## pegaremos o meio da lista e dividiremos em 2 partes direira e esquerda e chamaremos o merge sort em cada partição repetindo até o passo base.\n",
    "        meio = len(lista)//2\n",
    "        esquerda = lista[:meio]\n",
    "        direita = lista[meio:]\n",
    "        merge_sort(esquerda)\n",
    "        merge_sort(direita)\n",
    "        ## iniciamos a variaveis i, j e k. i será o ponteiro da parte esquerda, j o da parte direira e k o da lista a ser ordenda na iteração.\n",
    "        i = j = k = 0\n",
    "        ## Neste While compararemos cada conteudos da posição i e j de cada partição correspondente e atribuiremos na posição k da lista da iteração.\n",
    "        while i < len(esquerda) and j < len(direita):\n",
    "            if esquerda[i] < direita[j]:\n",
    "              lista[k] = esquerda[i]\n",
    "              i += 1\n",
    "            else:\n",
    "                lista[k] = direita[j]\n",
    "                j += 1\n",
    "            k += 1\n",
    "        ## Uma partição sempre acaba antes que outra portanto os dois Whiles apenas atribui o conteudo restante\n",
    "        #  de cada posição j ou i no conteudo da posição k\n",
    "        while i < len(esquerda):\n",
    "            lista[k] = esquerda[i]\n",
    "            i += 1\n",
    "            k += 1\n",
    "        while j < len(direita):\n",
    "            lista[k] = direita[j]\n",
    "            j += 1\n",
    "            k += 1\n",
    "    ## Ordenada a partição retornaremos para ser ordenada novamente com a outra partição até que toda a recursividade acabe\n",
    "    #  e então retornar a lista toda ordenada\n",
    "    return lista"
   ]
  },
  {
   "attachments": {},
   "cell_type": "markdown",
   "metadata": {},
   "source": [
    "Quick sort"
   ]
  },
  {
   "cell_type": "code",
   "execution_count": 6,
   "metadata": {},
   "outputs": [],
   "source": [
    "#quick sort\n",
    "## Quick sort é recursivo e utiliza uma função de partição dividindo a lista para então ordenar\n",
    "\n",
    "## A partição recebe a lista e seu intervalo.\n",
    "def partition(lista,esquerda,direita):\n",
    "    i = (esquerda-1)\n",
    "    pivot = lista[direita]\n",
    "    for j in range(esquerda,direita):\n",
    "        if lista[j] <= pivot:\n",
    "            i = i+1\n",
    "            lista[i],lista[j] = lista[j],lista[i]\n",
    "    lista[i+1],lista[direita] = lista[direita],lista[i+1]\n",
    "    return (i+1)\n",
    "\n",
    "## a função deve receber alem da lista duas posições validas da lista representando o intervalo de ordenação\n",
    "def quick_sort(lista,esquerda,direita):\n",
    "    if esquerda < direita:\n",
    "        pi = partition(lista,esquerda,direita)\n",
    "        ## As partições são cada vez mais partidas a esquerda e direita\n",
    "        quick_sort(lista,esquerda,pi-1)\n",
    "        quick_sort(lista,pi+1,direita)\n",
    "    return lista"
   ]
  },
  {
   "cell_type": "code",
   "execution_count": 7,
   "metadata": {},
   "outputs": [
    {
     "name": "stdout",
     "output_type": "stream",
     "text": [
      "Lista 0\n",
      "CPU times: total: 0 ns\n",
      "Wall time: 23.5 ms\n",
      "Lista 1\n",
      "CPU times: total: 0 ns\n",
      "Wall time: 26 ms\n",
      "Lista 2\n",
      "CPU times: total: 15.6 ms\n",
      "Wall time: 22 ms\n",
      "Lista 3\n",
      "CPU times: total: 1.22 s\n",
      "Wall time: 2.41 s\n",
      "Lista 4\n",
      "CPU times: total: 1.42 s\n",
      "Wall time: 2.3 s\n",
      "Lista 5\n",
      "CPU times: total: 1.7 s\n",
      "Wall time: 2.25 s\n",
      "Lista 6\n",
      "CPU times: total: 1.44 s\n",
      "Wall time: 2.24 s\n",
      "Lista 7\n",
      "CPU times: total: 3min 28s\n",
      "Wall time: 4min 10s\n",
      "Lista 8\n",
      "CPU times: total: 3min 47s\n",
      "Wall time: 4min 25s\n",
      "Lista 9\n",
      "CPU times: total: 3min 43s\n",
      "Wall time: 4min 17s\n"
     ]
    }
   ],
   "source": [
    "for lista in range(len(matriz)):\n",
    "    print('Lista',lista)\n",
    "    %time selection_sort(matriz[lista].copy())"
   ]
  },
  {
   "cell_type": "code",
   "execution_count": 8,
   "metadata": {},
   "outputs": [
    {
     "name": "stdout",
     "output_type": "stream",
     "text": [
      "Lista:  0\n",
      "CPU times: total: 15.6 ms\n",
      "Wall time: 102 ms\n",
      "Lista:  1\n",
      "CPU times: total: 46.9 ms\n",
      "Wall time: 81.7 ms\n",
      "Lista:  2\n",
      "CPU times: total: 0 ns\n",
      "Wall time: 83.1 ms\n",
      "Lista:  3\n",
      "CPU times: total: 7.5 s\n",
      "Wall time: 9.27 s\n",
      "Lista:  4\n",
      "CPU times: total: 7.92 s\n",
      "Wall time: 9.23 s\n",
      "Lista:  5\n",
      "CPU times: total: 7.86 s\n",
      "Wall time: 9.48 s\n",
      "Lista:  6\n",
      "CPU times: total: 8.23 s\n",
      "Wall time: 9.59 s\n",
      "Lista:  7\n",
      "CPU times: total: 15min 31s\n",
      "Wall time: 18min 5s\n",
      "Lista:  8\n",
      "CPU times: total: 15min 25s\n",
      "Wall time: 17min 58s\n",
      "Lista:  9\n",
      "CPU times: total: 15min 34s\n",
      "Wall time: 17min 58s\n"
     ]
    }
   ],
   "source": [
    "for lista in range(len(matriz)):\n",
    "    print('Lista: ',lista)\n",
    "    %time bubble_sort(matriz[lista].copy())\n",
    "\n"
   ]
  },
  {
   "cell_type": "code",
   "execution_count": 9,
   "metadata": {},
   "outputs": [
    {
     "name": "stdout",
     "output_type": "stream",
     "text": [
      "Lista:  0\n",
      "CPU times: total: 0 ns\n",
      "Wall time: 3.08 ms\n",
      "Lista:  1\n",
      "CPU times: total: 0 ns\n",
      "Wall time: 1.92 ms\n",
      "Lista:  2\n",
      "CPU times: total: 0 ns\n",
      "Wall time: 2.07 ms\n",
      "Lista:  3\n",
      "CPU times: total: 15.6 ms\n",
      "Wall time: 45 ms\n",
      "Lista:  4\n",
      "CPU times: total: 15.6 ms\n",
      "Wall time: 28 ms\n",
      "Lista:  5\n",
      "CPU times: total: 31.2 ms\n",
      "Wall time: 28.3 ms\n",
      "Lista:  6\n",
      "CPU times: total: 0 ns\n",
      "Wall time: 35.2 ms\n",
      "Lista:  7\n",
      "CPU times: total: 1.17 s\n",
      "Wall time: 1.59 s\n",
      "Lista:  8\n",
      "CPU times: total: 1.06 s\n",
      "Wall time: 1.58 s\n",
      "Lista:  9\n",
      "CPU times: total: 1.22 s\n",
      "Wall time: 1.54 s\n"
     ]
    }
   ],
   "source": [
    "for lista in range(len(matriz)):\n",
    "    print('Lista: ',lista)\n",
    "    %time quick_sort(matriz[lista].copy(),0,len(matriz[lista])-1)\n"
   ]
  },
  {
   "cell_type": "code",
   "execution_count": 10,
   "metadata": {},
   "outputs": [
    {
     "name": "stdout",
     "output_type": "stream",
     "text": [
      "Lista:  0\n",
      "CPU times: total: 0 ns\n",
      "Wall time: 23.1 ms\n",
      "Lista:  1\n",
      "CPU times: total: 15.6 ms\n",
      "Wall time: 20 ms\n",
      "Lista:  2\n",
      "CPU times: total: 0 ns\n",
      "Wall time: 25 ms\n",
      "Lista:  3\n",
      "CPU times: total: 2 s\n",
      "Wall time: 2.71 s\n",
      "Lista:  4\n",
      "CPU times: total: 2.08 s\n",
      "Wall time: 2.56 s\n",
      "Lista:  5\n",
      "CPU times: total: 2.22 s\n",
      "Wall time: 2.67 s\n",
      "Lista:  6\n",
      "CPU times: total: 2.17 s\n",
      "Wall time: 2.66 s\n",
      "Lista:  7\n",
      "CPU times: total: 4min 12s\n",
      "Wall time: 4min 49s\n",
      "Lista:  8\n",
      "CPU times: total: 4min 12s\n",
      "Wall time: 4min 49s\n",
      "Lista:  9\n",
      "CPU times: total: 4min 27s\n",
      "Wall time: 5min 14s\n"
     ]
    }
   ],
   "source": [
    "for lista in range(len(matriz)):\n",
    "    print('Lista: ',lista)\n",
    "    %time insertion_sort(matriz[lista].copy())"
   ]
  },
  {
   "cell_type": "code",
   "execution_count": 11,
   "metadata": {},
   "outputs": [
    {
     "name": "stdout",
     "output_type": "stream",
     "text": [
      "Lista:  0\n",
      "CPU times: total: 0 ns\n",
      "Wall time: 4 ms\n",
      "Lista:  1\n",
      "CPU times: total: 0 ns\n",
      "Wall time: 4 ms\n",
      "Lista:  2\n",
      "CPU times: total: 0 ns\n",
      "Wall time: 3 ms\n",
      "Lista:  3\n",
      "CPU times: total: 15.6 ms\n",
      "Wall time: 39.8 ms\n",
      "Lista:  4\n",
      "CPU times: total: 15.6 ms\n",
      "Wall time: 28.1 ms\n",
      "Lista:  5\n",
      "CPU times: total: 0 ns\n",
      "Wall time: 40.9 ms\n",
      "Lista:  6\n",
      "CPU times: total: 31.2 ms\n",
      "Wall time: 35 ms\n",
      "Lista:  7\n",
      "CPU times: total: 250 ms\n",
      "Wall time: 478 ms\n",
      "Lista:  8\n",
      "CPU times: total: 62.5 ms\n",
      "Wall time: 379 ms\n",
      "Lista:  9\n",
      "CPU times: total: 219 ms\n",
      "Wall time: 412 ms\n"
     ]
    }
   ],
   "source": [
    "for lista in range(len(matriz)):\n",
    "    print('Lista: ',lista)\n",
    "    %time merge_sort(matriz[lista].copy())\n"
   ]
  }
 ],
 "metadata": {
  "kernelspec": {
   "display_name": "Python 3",
   "language": "python",
   "name": "python3"
  },
  "language_info": {
   "codemirror_mode": {
    "name": "ipython",
    "version": 3
   },
   "file_extension": ".py",
   "mimetype": "text/x-python",
   "name": "python",
   "nbconvert_exporter": "python",
   "pygments_lexer": "ipython3",
   "version": "3.10.6"
  },
  "orig_nbformat": 4
 },
 "nbformat": 4,
 "nbformat_minor": 2
}
