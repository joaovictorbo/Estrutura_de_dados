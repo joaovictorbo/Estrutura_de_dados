{
 "cells": [
  {
   "cell_type": "code",
   "execution_count": 35,
   "metadata": {},
   "outputs": [],
   "source": [
    "from os import walk\n",
    "def import_folder_text(path):\n",
    "    text_list = []\n",
    "    for diretorio,subpastas,arquivos in walk(path):\n",
    "        for arquivo in arquivos:\n",
    "            full_path = path + arquivo\n",
    "            texto = open(full_path,'r')\n",
    "            text_list.append(texto.readlines())\n",
    "            for i in range(len(text_list)):\n",
    "                for j in range(len(text_list[i])):\n",
    "                    text_list[i][j] = int(text_list[i][j])\n",
    "    return text_list\n",
    "matriz = import_folder_text('instancias/')\n",
    "lista = matriz[6] \n",
    "\n"
   ]
  },
  {
   "attachments": {},
   "cell_type": "markdown",
   "metadata": {},
   "source": [
    "Selection sort"
   ]
  },
  {
   "cell_type": "code",
   "execution_count": 36,
   "metadata": {},
   "outputs": [],
   "source": [
    "def selection_sort(lista):\n",
    "    for i in range(len(lista)):\n",
    "        minimo = i\n",
    "        for j in range(i+1, len(lista)):\n",
    "            if lista[minimo] > lista[j]:\n",
    "                minimo = j\n",
    "        lista[i], lista[minimo] = lista[minimo], lista[i]\n",
    "    return lista"
   ]
  },
  {
   "attachments": {},
   "cell_type": "markdown",
   "metadata": {},
   "source": [
    "Bubble sort"
   ]
  },
  {
   "cell_type": "code",
   "execution_count": 37,
   "metadata": {},
   "outputs": [],
   "source": [
    "\n",
    "def bubble_sort(array):\n",
    "    trocou = True\n",
    "    while trocou:\n",
    "        trocou = False\n",
    "        elementos_ordenados = 0\n",
    "        for pos_inicial in range(0, len(array) - elementos_ordenados - 1):\n",
    "            if array[pos_inicial] > array[pos_inicial+1]:\n",
    "                aux = array[pos_inicial]\n",
    "                array[pos_inicial] = array[pos_inicial+1]\n",
    "                array[pos_inicial+1] = aux\n",
    "                trocou = True\n",
    "        elementos_ordenados += 1\n",
    "    return array"
   ]
  },
  {
   "attachments": {},
   "cell_type": "markdown",
   "metadata": {},
   "source": [
    "Insertion sort"
   ]
  },
  {
   "cell_type": "code",
   "execution_count": 38,
   "metadata": {},
   "outputs": [],
   "source": [
    "def insertion_sort(lista):\n",
    "    for i in range(1,len(lista)):\n",
    "        aux = lista[i]\n",
    "        j = i-1\n",
    "        while j>=0 and aux<lista[j]:\n",
    "            lista[j+1] = lista[j]\n",
    "            j -= 1\n",
    "        lista[j+1] = aux\n",
    "    return lista"
   ]
  },
  {
   "attachments": {},
   "cell_type": "markdown",
   "metadata": {},
   "source": [
    "Merge sort"
   ]
  },
  {
   "cell_type": "code",
   "execution_count": 39,
   "metadata": {},
   "outputs": [],
   "source": [
    "def merge_sort(lista):\n",
    "    if len(lista) > 1:\n",
    "        meio = len(lista)//2\n",
    "        esquerda = lista[:meio]\n",
    "        direita = lista[meio:]\n",
    "        merge_sort(esquerda)\n",
    "        merge_sort(direita)\n",
    "        i = j = k = 0\n",
    "        while i < len(esquerda) and j < len(direita):\n",
    "            if esquerda[i] < direita[j]:\n",
    "              lista[k] = esquerda[i]\n",
    "              i += 1\n",
    "            else:\n",
    "                lista[k] = direita[j]\n",
    "                j += 1\n",
    "            k += 1\n",
    "        while i < len(esquerda):\n",
    "            lista[k] = esquerda[i]\n",
    "            i += 1\n",
    "            k += 1\n",
    "        while j < len(direita):\n",
    "            lista[k] = direita[j]\n",
    "            j += 1\n",
    "            k += 1\n",
    "    return lista"
   ]
  },
  {
   "attachments": {},
   "cell_type": "markdown",
   "metadata": {},
   "source": [
    "Quick sort"
   ]
  },
  {
   "cell_type": "code",
   "execution_count": 40,
   "metadata": {},
   "outputs": [],
   "source": [
    "#quick sort\n",
    "def partition(lista,esquerda,direita):\n",
    "    i = (esquerda-1)\n",
    "    pivot = lista[direita]\n",
    "    for j in range(esquerda,direita):\n",
    "        if lista[j] <= pivot:\n",
    "            i = i+1\n",
    "            lista[i],lista[j] = lista[j],lista[i]\n",
    "    lista[i+1],lista[direita] = lista[direita],lista[i+1]\n",
    "    return (i+1)\n",
    "\n",
    "def quick_sort(lista,esquerda,direita):\n",
    "    if esquerda < direita:\n",
    "        pi = partition(lista,esquerda,direita)\n",
    "        quick_sort(lista,esquerda,pi-1)\n",
    "        quick_sort(lista,pi+1,direita)\n",
    "    return lista"
   ]
  },
  {
   "cell_type": "code",
   "execution_count": 41,
   "metadata": {},
   "outputs": [
    {
     "name": "stdout",
     "output_type": "stream",
     "text": [
      "CPU times: total: 0 ns\n",
      "Wall time: 32.5 ms\n"
     ]
    }
   ],
   "source": [
    "%%time \n",
    "quick_sort(lista,0,len(lista)-1)\n",
    "a = 0\n"
   ]
  },
  {
   "cell_type": "code",
   "execution_count": 42,
   "metadata": {},
   "outputs": [
    {
     "name": "stdout",
     "output_type": "stream",
     "text": [
      "CPU times: total: 15.6 ms\n",
      "Wall time: 901 µs\n"
     ]
    }
   ],
   "source": [
    "%%time \n",
    "bubble_sort(lista)\n",
    "a = 0 "
   ]
  },
  {
   "cell_type": "code",
   "execution_count": 43,
   "metadata": {},
   "outputs": [
    {
     "name": "stdout",
     "output_type": "stream",
     "text": [
      "CPU times: total: 188 ms\n",
      "Wall time: 2.63 s\n"
     ]
    }
   ],
   "source": [
    "%%time\n",
    "selection_sort(lista)\n",
    "a = 0 "
   ]
  },
  {
   "cell_type": "code",
   "execution_count": 44,
   "metadata": {},
   "outputs": [
    {
     "name": "stdout",
     "output_type": "stream",
     "text": [
      "CPU times: total: 0 ns\n",
      "Wall time: 2.28 ms\n"
     ]
    }
   ],
   "source": [
    "%%time\n",
    "insertion_sort(lista)\n",
    "a = 0"
   ]
  },
  {
   "cell_type": "code",
   "execution_count": 45,
   "metadata": {},
   "outputs": [
    {
     "name": "stdout",
     "output_type": "stream",
     "text": [
      "CPU times: total: 62.5 ms\n",
      "Wall time: 66.5 ms\n"
     ]
    }
   ],
   "source": [
    "%%time\n",
    "merge_sort(lista)\n",
    "a = 0"
   ]
  }
 ],
 "metadata": {
  "kernelspec": {
   "display_name": "Python 3",
   "language": "python",
   "name": "python3"
  },
  "language_info": {
   "codemirror_mode": {
    "name": "ipython",
    "version": 3
   },
   "file_extension": ".py",
   "mimetype": "text/x-python",
   "name": "python",
   "nbconvert_exporter": "python",
   "pygments_lexer": "ipython3",
   "version": "3.10.6"
  },
  "orig_nbformat": 4
 },
 "nbformat": 4,
 "nbformat_minor": 2
}
